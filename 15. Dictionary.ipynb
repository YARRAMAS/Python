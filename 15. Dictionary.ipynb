{
 "cells": [
  {
   "cell_type": "code",
   "execution_count": null,
   "id": "c0f308d1",
   "metadata": {},
   "outputs": [],
   "source": [
    "\"\"\" Create a Dictionary with at least 5 key value pairs of the Student ID and Name \n",
    "1.1. Adding the values in dictionary \n",
    "1.2. Updating the values in dictionary \n",
    "1.3. Accessing the value in dictionary \n",
    "1.4. Create a nested loop dictionary \n",
    "1.5. Access the values of nested loop dictionary \n",
    "1.6. Print the keys present in a particular dictionary \n",
    "1.7. Delete a value from a dictionary\"\"\""
   ]
  },
  {
   "cell_type": "code",
   "execution_count": 16,
   "id": "49388e07",
   "metadata": {},
   "outputs": [
    {
     "name": "stdout",
     "output_type": "stream",
     "text": [
      "1. After adding new key-pair: {101: 'Srinivas', 102: 'Pranavi', 103: 'Jahnavi', 104: 'Vineela', 105: 'Lucky', 106: 'Tamanna'}\n",
      "2.After updating the values: {101: 'Srinivas', 102: 'Pranavi', 103: 'Jahnavi', 104: 'Shamitha', 105: 'Lucky', 106: 'Tamanna'}\n",
      "3.Accessing:102->Pranavi\n",
      "4.Nested list:\n",
      "{'class1': {101: 'Pranavi', 102: 'Srinivas', 103: 'vineela'}, 'class2': {104: 'Tamanna', 105: 'CR', 106: 'Jahnavi'}}\n",
      "5.Accessing nested list:\n",
      "Nested list:class1-{101: 'Pranavi', 102: 'Srinivas', 103: 'vineela'}\n",
      "6. Keys present in a dictionary: dict_keys([101, 102, 103, 104, 105, 106])\n",
      "dictinary list: {101: 'Srinivas', 102: 'Pranavi', 103: 'Jahnavi', 104: 'Shamitha', 106: 'Tamanna'}\n"
     ]
    }
   ],
   "source": [
    "students={\n",
    "    101:\"Srinivas\",\n",
    "    102:\"Pranavi\",\n",
    "    103:\"Jahnavi\",\n",
    "    104:\"Vineela\",\n",
    "    105:\"Lucky\"\n",
    "}\n",
    "#1.1 adding\n",
    "students[106]=\"Tamanna\"\n",
    "print(\"1. After adding new key-pair:\",students)\n",
    "\n",
    "#1.2 Updating\n",
    "students[104]=\"Shamitha\"\n",
    "print(\"2.After updating the values:\",students)\n",
    "#1.3 Accessing\n",
    "id=102\n",
    "print(f\"3.Accessing:{id}->{students[id]}\")\n",
    "#1.4 nested loop disctinary\n",
    "print(\"4.Nested list:\")\n",
    "nested_list={\n",
    "    \"class1\":{\n",
    "    101:\"Pranavi\",\n",
    "    102:\"Srinivas\",\n",
    "    103:\"vineela\"\n",
    "    },\n",
    "    \"class2\":{\n",
    "        104:\"Tamanna\",\n",
    "        105:\"CR\",\n",
    "        106:\"Jahnavi\"\n",
    "    }\n",
    "}\n",
    "#5. nestedlist accessing\n",
    "print(nested_list)\n",
    "print(\"5.Accessing nested list:\")\n",
    "c=\"class1\"\n",
    "print(f\"Nested list:{c}-{nested_list[c]}\")\n",
    "#6. keys\n",
    "print(\"6. Keys present in a dictionary:\",students.keys())\n",
    "#7.deleting\n",
    "i=105\n",
    "del students[i]\n",
    "print(\"dictinary list:\",students)"
   ]
  }
 ],
 "metadata": {
  "kernelspec": {
   "display_name": "Python 3 (ipykernel)",
   "language": "python",
   "name": "python3"
  },
  "language_info": {
   "codemirror_mode": {
    "name": "ipython",
    "version": 3
   },
   "file_extension": ".py",
   "mimetype": "text/x-python",
   "name": "python",
   "nbconvert_exporter": "python",
   "pygments_lexer": "ipython3",
   "version": "3.9.12"
  }
 },
 "nbformat": 4,
 "nbformat_minor": 5
}
