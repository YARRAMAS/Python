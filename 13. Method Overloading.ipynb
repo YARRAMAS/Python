{
 "cells": [
  {
   "cell_type": "code",
   "execution_count": 8,
   "id": "e2145a43",
   "metadata": {},
   "outputs": [
    {
     "name": "stdout",
     "output_type": "stream",
     "text": [
      "NO arguments\n",
      "Single Argument: 10\n",
      "Two Arguments: 10 20\n"
     ]
    }
   ],
   "source": [
    "\"\"\"1. Write two methods with the same name but different number of parameters of same type \n",
    "and call the methods  \"\"\"\n",
    "class Parent:\n",
    "    def display(self,*args):\n",
    "        if len(args)==1:\n",
    "            print(\"Single Argument:\",args[0])\n",
    "        elif len(args)==2:\n",
    "            print(\"Two Arguments:\",args[0],args[1])\n",
    "        else:\n",
    "            print(\"NO arguments\")\n",
    "\n",
    "p=Parent()\n",
    "p.display()\n",
    "p.display(10)\n",
    "p.display(10,20)"
   ]
  },
  {
   "cell_type": "code",
   "execution_count": 11,
   "id": "817a1958",
   "metadata": {},
   "outputs": [
    {
     "name": "stdout",
     "output_type": "stream",
     "text": [
      "Single Argument of int type: 20\n",
      "Single Argument of string type: Hello\n"
     ]
    }
   ],
   "source": [
    "\"\"\"2. Write two methods with the same name but different number of parameters of different \n",
    "data type and call the methods  \"\"\"\n",
    "class Parent:\n",
    "    def display(self,*args):\n",
    "        if len(args)==1 and isinstance(args[0],int):\n",
    "            print(\"Single Argument of int type:\",args[0])\n",
    "        elif len(args)==1 and isinstance(args[0],str):\n",
    "            print(\"Single Argument of string type:\",args[0])\n",
    "        else:\n",
    "            print(\"Invalid Input\")\n",
    "o=Parent()\n",
    "o.display(20)\n",
    "o.display(\"Hello\")"
   ]
  },
  {
   "cell_type": "code",
   "execution_count": 18,
   "id": "11d7c3fe",
   "metadata": {},
   "outputs": [
    {
     "name": "stdout",
     "output_type": "stream",
     "text": [
      "Second Method: 10\n",
      "Second Method: 100\n"
     ]
    }
   ],
   "source": [
    "#3. Write two methods with the same name and same number of parameters of same type \n",
    "class Parent:\n",
    "    def display(self,a):\n",
    "        print(\"First Method:\",a)\n",
    "    def display(self,a):\n",
    "        print(\"Second Method:\",a)\n",
    "c=Parent()\n",
    "c.display(10)"
   ]
  },
  {
   "cell_type": "code",
   "execution_count": null,
   "id": "7fb2988a",
   "metadata": {},
   "outputs": [],
   "source": []
  }
 ],
 "metadata": {
  "kernelspec": {
   "display_name": "Python 3 (ipykernel)",
   "language": "python",
   "name": "python3"
  },
  "language_info": {
   "codemirror_mode": {
    "name": "ipython",
    "version": 3
   },
   "file_extension": ".py",
   "mimetype": "text/x-python",
   "name": "python",
   "nbconvert_exporter": "python",
   "pygments_lexer": "ipython3",
   "version": "3.9.12"
  }
 },
 "nbformat": 4,
 "nbformat_minor": 5
}
