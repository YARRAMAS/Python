{
 "cells": [
  {
   "cell_type": "code",
   "execution_count": 10,
   "id": "3affb9b4",
   "metadata": {},
   "outputs": [
    {
     "name": "stdout",
     "output_type": "stream",
     "text": [
      "Name: Private name\n",
      "Age: 20\n",
      "This is a private class method. Name:Private name, Age:20\n",
      "can not access the private class members.\n",
      "can not access the private class methods.\n"
     ]
    }
   ],
   "source": [
    "'''1. Create a class with PRIVATE fields, private method and a main method. Print the fields \n",
    "in main method. Call the private method in main method. \n",
    "Create a sub class and try to access the private fields and methods from sub class. '''\n",
    "class ParentClass:\n",
    "    def __init__(self):\n",
    "        self.__name=\"Private name\"\n",
    "        self.__age=20\n",
    "    def __display_private_info(self):\n",
    "        print(f\"This is a private class method. Name:{self.__name}, Age:{self.__age}\")\n",
    "    def access_private_info(self):\n",
    "        print(\"Name:\",self.__name)\n",
    "        print(\"Age:\",self.__age)\n",
    "        self.__display_private_info()\n",
    "        \n",
    "class SubClass(ParentClass):\n",
    "    def access_private_members(self):\n",
    "        try:\n",
    "            print(\"name of private class:\",self.__name)\n",
    "        except AttributeError:\n",
    "            print(\"can not access the private class members.\")\n",
    "        try:\n",
    "            self.__display_private_info()\n",
    "        except AttributeError:\n",
    "            print(\"can not access the private class methods.\")\n",
    "if __name__==\"__main__\":\n",
    "    p=ParentClass()\n",
    "    p.access_private_info()\n",
    "    \n",
    "    s=SubClass()\n",
    "    s.access_private_members()"
   ]
  },
  {
   "cell_type": "code",
   "execution_count": 13,
   "id": "feeb5ade",
   "metadata": {},
   "outputs": [
    {
     "name": "stdout",
     "output_type": "stream",
     "text": [
      "Name of protected : Protected Name\n",
      "Age of the protected : 25\n",
      "Name:Protected Name and Age:25\n"
     ]
    }
   ],
   "source": [
    "\"\"\"2. Create a class with PROTECTED fields and methods. Access these fields and methods \n",
    "from any other class in the same package.  \n",
    "Also, Access the PROTECTED fields and methods from child class located in a different \n",
    "package \n",
    "Access the PROTECTED fields and methods from any class in different package \"\"\"\n",
    "\n",
    "#File: parent.py\n",
    "class ParentClass:\n",
    "    def __init__(self):\n",
    "        self._name=\"Protected Name\"\n",
    "        self._age=25\n",
    "    def _display_protected_info(self):\n",
    "        print(f\"Name:{self._name} and Age:{self._age}\")\n",
    "class SamePackageClass:\n",
    "    def access_protected_info(self):\n",
    "        par=ParentClass()\n",
    "        print(\"Name of protected :\",par._name)\n",
    "        print(\"Age of the protected :\",par._age)\n",
    "        par._display_protected_info()\n",
    "        \n",
    "obj=SamePackageClass()\n",
    "obj.access_protected_info()"
   ]
  },
  {
   "cell_type": "code",
   "execution_count": null,
   "id": "f2667f1c",
   "metadata": {},
   "outputs": [],
   "source": [
    "#child.py (located in a different package/folder)\n",
    "from parent import ParentClass\n",
    "\n",
    "# Child class in a different module/package\n",
    "class ChildClass(ParentClass):\n",
    "    def access_protected_in_subclass(self):\n",
    "        # Accessing protected fields and methods from a subclass\n",
    "        print(f\"Accessing protected field 'name' in child class: {self._name}\")\n",
    "        print(f\"Accessing protected field 'age' in child class: {self._age}\")\n",
    "        self._display_protected_info()\n",
    "        \n",
    "child_obj = ChildClass()\n",
    "child_obj.access_protected_in_subclass()\n"
   ]
  },
  {
   "cell_type": "code",
   "execution_count": null,
   "id": "14a45247",
   "metadata": {},
   "outputs": [],
   "source": [
    "#File: different_package.py (located in a different package/folder)\n",
    "from parent import ParentClass\n",
    "\n",
    "# Class in a different module/package but NOT a subclass\n",
    "class DifferentPackageClass:\n",
    "    def access_protected_in_different_package(self):\n",
    "        parent_obj = ParentClass()\n",
    "        # Trying to access protected fields and methods\n",
    "        print(f\"Accessing protected field 'name' in different package: {par._name}\")\n",
    "        print(f\"Accessing protected field 'age' in different package: {par._age}\")\n",
    "        par._display_protected_info()\n",
    "        \n",
    "diff_pkg_obj = DifferentPackageClass()\n",
    "diff_pkg_obj.access_protected_in_different_package()\n"
   ]
  },
  {
   "cell_type": "code",
   "execution_count": 21,
   "id": "e12fbb06",
   "metadata": {},
   "outputs": [
    {
     "name": "stdout",
     "output_type": "stream",
     "text": [
      "name:Public Name and age:23\n",
      "Accessing the public members:Name:Public Name and Age:23\n"
     ]
    }
   ],
   "source": [
    "\"\"\"3. Create a class with PUBLIC fields and methods.  \n",
    "Access the public methods and fields from any class in the same package or different \n",
    "package.\"\"\"\n",
    "\n",
    "class ParentClass:\n",
    "    def __init__(self):\n",
    "        self.name=\"Public Name\"\n",
    "        self.age=23\n",
    "    def display_public_info(self):\n",
    "        print(f'Accessing the public members:Name:{self.name} and Age:{self.age}')\n",
    "class SamePackageClass:\n",
    "    def access_public_info(self):\n",
    "        p=ParentClass()\n",
    "        print(f'name:{p.name} and age:{p.age}')\n",
    "        p.display_public_info()\n",
    "obj=SamePackageClass()\n",
    "obj.access_public_info()"
   ]
  },
  {
   "cell_type": "code",
   "execution_count": null,
   "id": "e4331d7d",
   "metadata": {},
   "outputs": [],
   "source": [
    "#File: different_package.py (located in a different package/folder)\n",
    "from parent import ParentClass\n",
    "\n",
    "# Class in a different module/package accessing the public members\n",
    "class DifferentPackageClass:\n",
    "    def access_public_in_different_package(self):\n",
    "        parent_obj = ParentClass()\n",
    "        # Accessing public fields and methods\n",
    "        print(f\"Accessing public field 'name' in different package: {parent_obj.name}\")\n",
    "        print(f\"Accessing public field 'age' in different package: {parent_obj.age}\")\n",
    "        parent_obj.display_public_info()\n",
    "diff_obj=DifferentPackageClass()\n",
    "diff_obj.access_public_in_different_package()"
   ]
  }
 ],
 "metadata": {
  "kernelspec": {
   "display_name": "Python 3 (ipykernel)",
   "language": "python",
   "name": "python3"
  },
  "language_info": {
   "codemirror_mode": {
    "name": "ipython",
    "version": 3
   },
   "file_extension": ".py",
   "mimetype": "text/x-python",
   "name": "python",
   "nbconvert_exporter": "python",
   "pygments_lexer": "ipython3",
   "version": "3.9.12"
  }
 },
 "nbformat": 4,
 "nbformat_minor": 5
}
