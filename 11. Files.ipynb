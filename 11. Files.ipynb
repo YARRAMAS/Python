{
 "cells": [
  {
   "cell_type": "code",
   "execution_count": 5,
   "id": "a9a6cb4d",
   "metadata": {},
   "outputs": [
    {
     "name": "stdout",
     "output_type": "stream",
     "text": [
      "Hello, This is a sample text file.\n",
      "It contains multiple lines.\n",
      "\n"
     ]
    }
   ],
   "source": [
    "#1. Write a program to read a text file \n",
    "file = open(\"C:/Users/Srinivas Yarramasu/Documents/PYTHON/JALA ACADEMY/sample.txt\", 'r')\n",
    "\n",
    "content = file.read()\n",
    "\n",
    "\n",
    "print(content)\n",
    "\n",
    "\n",
    "file.close()\n"
   ]
  },
  {
   "cell_type": "code",
   "execution_count": 6,
   "id": "2f050fa0",
   "metadata": {},
   "outputs": [
    {
     "name": "stdout",
     "output_type": "stream",
     "text": [
      "Enter text to write to file: hello this is srinivas\n",
      "Text written to output.txt successfully!\n"
     ]
    }
   ],
   "source": [
    "#2. Write a program to write text to .txt file using  InputStream\n",
    "\n",
    "file = open(\"output.txt\", 'w')\n",
    "\n",
    "user_input = input(\"Enter text to write to file: \")\n",
    "\n",
    "file.write(user_input)\n",
    "\n",
    "file.close()\n",
    "\n",
    "print(\"Text written to output.txt successfully!\")"
   ]
  },
  {
   "cell_type": "code",
   "execution_count": 11,
   "id": "a3e9ddf5",
   "metadata": {},
   "outputs": [
    {
     "name": "stdout",
     "output_type": "stream",
     "text": [
      "Hello, This is a sample text file.\n",
      " It contains multiple lines.\n",
      " "
     ]
    }
   ],
   "source": [
    "#3. Write a program to read a file stream\n",
    "file=open(\"C:/Users/Srinivas Yarramasu/Documents/PYTHON/JALA ACADEMY/sample.txt\",'r')\n",
    "for line in file:\n",
    "    print(line,end=\" \")\n",
    "file.close()"
   ]
  },
  {
   "cell_type": "code",
   "execution_count": 19,
   "id": "4b756d5e",
   "metadata": {},
   "outputs": [
    {
     "name": "stdout",
     "output_type": "stream",
     "text": [
      "Reading from index:0\n",
      "Hello, This is a sample text file.\n",
      "\n",
      "Reading from index:10\n",
      "s is a sample text file.\n",
      "\n",
      "Reading from index:25\n",
      "ext file.\n",
      "\n"
     ]
    }
   ],
   "source": [
    "#4. Write a program to read a file stream supports random access \n",
    "file = open(\"C:/Users/Srinivas Yarramasu/Documents/PYTHON/JALA ACADEMY/sample.txt\", 'r')\n",
    "def read_from_posotions(position):\n",
    "    file.seek(position)\n",
    "    line=file.readline()\n",
    "    return line\n",
    "position=[0,10,25]\n",
    "for p in position:\n",
    "    print(f'Reading from index:{p}')\n",
    "    print(read_from_position(p))\n",
    "file.close()"
   ]
  },
  {
   "cell_type": "code",
   "execution_count": 15,
   "id": "e25c1308",
   "metadata": {},
   "outputs": [
    {
     "name": "stdout",
     "output_type": "stream",
     "text": [
      "Reading from index 10:\n",
      "s is a sample text file.\n"
     ]
    }
   ],
   "source": [
    "#5. Write a program to read a file a just to a particular index using seek() \n",
    "\n",
    "file = open(\"C:/Users/Srinivas Yarramasu/Documents/PYTHON/JALA ACADEMY/sample.txt\", 'r')\n",
    "index = 10\n",
    "file.seek(index)\n",
    "line = file.readline()\n",
    "print(f\"Reading from index {index}:\")\n",
    "print(line, end='')\n",
    "file.close()\n"
   ]
  },
  {
   "cell_type": "code",
   "execution_count": 20,
   "id": "ced8d220",
   "metadata": {},
   "outputs": [
    {
     "name": "stdout",
     "output_type": "stream",
     "text": [
      "The C:/Users/Srinivas Yarramasu/Documents/PYTHON/JALA ACADEMY/sample.txt has read access permissions.\n",
      "The C:/Users/Srinivas Yarramasu/Documents/PYTHON/JALA ACADEMY/sample.txt has write access permissions.\n"
     ]
    }
   ],
   "source": [
    "#6. Write a program to check whether a file is having read access and write access permissions \n",
    "import os\n",
    "file_path=\"C:/Users/Srinivas Yarramasu/Documents/PYTHON/JALA ACADEMY/sample.txt\"\n",
    "read_access=os.access(file_path,os.R_OK)\n",
    "write_access=os.access(file_path,os.W_OK)\n",
    "\n",
    "if read_access:\n",
    "    print(f'The {file_path} has read access permissions.')\n",
    "else:\n",
    "    print(f'The {file_path} has no read access permissions.')\n",
    "if write_access:\n",
    "    print(f'The {file_path} has write access permissions.')\n",
    "else:\n",
    "    print(f'The {file_path} has no write access permissions.')"
   ]
  }
 ],
 "metadata": {
  "kernelspec": {
   "display_name": "Python 3 (ipykernel)",
   "language": "python",
   "name": "python3"
  },
  "language_info": {
   "codemirror_mode": {
    "name": "ipython",
    "version": 3
   },
   "file_extension": ".py",
   "mimetype": "text/x-python",
   "name": "python",
   "nbconvert_exporter": "python",
   "pygments_lexer": "ipython3",
   "version": "3.9.12"
  }
 },
 "nbformat": 4,
 "nbformat_minor": 5
}
