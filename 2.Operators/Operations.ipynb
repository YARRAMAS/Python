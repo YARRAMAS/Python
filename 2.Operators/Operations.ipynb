{
 "cells": [
  {
   "cell_type": "code",
   "execution_count": 1,
   "metadata": {},
   "outputs": [
    {
     "name": "stdout",
     "output_type": "stream",
     "text": [
      "Addition: 8\n",
      "Subtraction: -4\n",
      "Multipliction: 12\n",
      "Division: 0.3333333333333333\n"
     ]
    }
   ],
   "source": [
    "a=2\n",
    "b=6\n",
    "print(\"Addition:\",a+b)\n",
    "print(\"Subtraction:\",a-b)\n",
    "print(\"Multipliction:\",a*b)\n",
    "print(\"Division:\",a/b)\n"
   ]
  },
  {
   "cell_type": "code",
   "execution_count": 2,
   "metadata": {},
   "outputs": [
    {
     "name": "stdout",
     "output_type": "stream",
     "text": [
      "After increment: 6\n",
      "After decrement: 5\n"
     ]
    }
   ],
   "source": [
    "num = 5\n",
    "num = num + 1 \n",
    "print(\"After increment:\", num)\n",
    "\n",
    "num = num - 1  \n",
    "print(\"After decrement:\", num)\n"
   ]
  }
 ],
 "metadata": {
  "kernelspec": {
   "display_name": "Python 3",
   "language": "python",
   "name": "python3"
  },
  "language_info": {
   "codemirror_mode": {
    "name": "ipython",
    "version": 3
   },
   "file_extension": ".py",
   "mimetype": "text/x-python",
   "name": "python",
   "nbconvert_exporter": "python",
   "pygments_lexer": "ipython3",
   "version": "3.11.2"
  }
 },
 "nbformat": 4,
 "nbformat_minor": 2
}
