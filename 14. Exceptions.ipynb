{
 "cells": [
  {
   "cell_type": "code",
   "execution_count": 1,
   "id": "3a78c3d4",
   "metadata": {},
   "outputs": [
    {
     "ename": "ZeroDivisionError",
     "evalue": "division by zero",
     "output_type": "error",
     "traceback": [
      "\u001b[1;31m---------------------------------------------------------------------------\u001b[0m",
      "\u001b[1;31mZeroDivisionError\u001b[0m                         Traceback (most recent call last)",
      "Input \u001b[1;32mIn [1]\u001b[0m, in \u001b[0;36m<cell line: 4>\u001b[1;34m()\u001b[0m\n\u001b[0;32m      2\u001b[0m \u001b[38;5;28;01mdef\u001b[39;00m \u001b[38;5;21marithmetic\u001b[39m(a,b):\n\u001b[0;32m      3\u001b[0m     \u001b[38;5;28mprint\u001b[39m(\u001b[38;5;124m\"\u001b[39m\u001b[38;5;124mArithmetic Operation is:\u001b[39m\u001b[38;5;124m\"\u001b[39m,a\u001b[38;5;241m/\u001b[39mb)\n\u001b[1;32m----> 4\u001b[0m \u001b[38;5;28mprint\u001b[39m(\u001b[43marithmetic\u001b[49m\u001b[43m(\u001b[49m\u001b[38;5;241;43m2\u001b[39;49m\u001b[43m,\u001b[49m\u001b[38;5;241;43m0\u001b[39;49m\u001b[43m)\u001b[49m)\n",
      "Input \u001b[1;32mIn [1]\u001b[0m, in \u001b[0;36marithmetic\u001b[1;34m(a, b)\u001b[0m\n\u001b[0;32m      2\u001b[0m \u001b[38;5;28;01mdef\u001b[39;00m \u001b[38;5;21marithmetic\u001b[39m(a,b):\n\u001b[1;32m----> 3\u001b[0m     \u001b[38;5;28mprint\u001b[39m(\u001b[38;5;124m\"\u001b[39m\u001b[38;5;124mArithmetic Operation is:\u001b[39m\u001b[38;5;124m\"\u001b[39m,\u001b[43ma\u001b[49m\u001b[38;5;241;43m/\u001b[39;49m\u001b[43mb\u001b[49m)\n",
      "\u001b[1;31mZeroDivisionError\u001b[0m: division by zero"
     ]
    }
   ],
   "source": [
    "#1. Write a program to generate Arithmetic Exception without exception handling\n",
    "def arithmetic(a,b):\n",
    "    print(\"Arithmetic Operation is:\",a/b)\n",
    "print(arithmetic(2,0))"
   ]
  },
  {
   "cell_type": "code",
   "execution_count": null,
   "id": "949e2989",
   "metadata": {},
   "outputs": [],
   "source": [
    "# 2.  Handle the Arithmetic exception using try-catch block \n",
    "def arithmetics(a,b):\n",
    "    try:\n",
    "        print(\"Arithmetic operations:\",a/b)\n",
    "    except ZeroDivisionError:\n",
    "        print(\"Error: Zero Division error is occured.\")\n",
    "arithmetics(2,0)"
   ]
  },
  {
   "cell_type": "code",
   "execution_count": 6,
   "id": "2902c78b",
   "metadata": {},
   "outputs": [
    {
     "ename": "Exception",
     "evalue": "This is intentionally thrown an exception.",
     "output_type": "error",
     "traceback": [
      "\u001b[1;31m---------------------------------------------------------------------------\u001b[0m",
      "\u001b[1;31mException\u001b[0m                                 Traceback (most recent call last)",
      "Input \u001b[1;32mIn [6]\u001b[0m, in \u001b[0;36m<cell line: 6>\u001b[1;34m()\u001b[0m\n\u001b[0;32m      4\u001b[0m \u001b[38;5;28;01mdef\u001b[39;00m \u001b[38;5;21mmain\u001b[39m():\n\u001b[0;32m      5\u001b[0m     throwexception()\n\u001b[1;32m----> 6\u001b[0m \u001b[43mmain\u001b[49m\u001b[43m(\u001b[49m\u001b[43m)\u001b[49m\n",
      "Input \u001b[1;32mIn [6]\u001b[0m, in \u001b[0;36mmain\u001b[1;34m()\u001b[0m\n\u001b[0;32m      4\u001b[0m \u001b[38;5;28;01mdef\u001b[39;00m \u001b[38;5;21mmain\u001b[39m():\n\u001b[1;32m----> 5\u001b[0m     \u001b[43mthrowexception\u001b[49m\u001b[43m(\u001b[49m\u001b[43m)\u001b[49m\n",
      "Input \u001b[1;32mIn [6]\u001b[0m, in \u001b[0;36mthrowexception\u001b[1;34m()\u001b[0m\n\u001b[0;32m      2\u001b[0m \u001b[38;5;28;01mdef\u001b[39;00m \u001b[38;5;21mthrowexception\u001b[39m():\n\u001b[1;32m----> 3\u001b[0m     \u001b[38;5;28;01mraise\u001b[39;00m \u001b[38;5;167;01mException\u001b[39;00m(\u001b[38;5;124m\"\u001b[39m\u001b[38;5;124mThis is intentionally thrown an exception.\u001b[39m\u001b[38;5;124m\"\u001b[39m)\n",
      "\u001b[1;31mException\u001b[0m: This is intentionally thrown an exception."
     ]
    }
   ],
   "source": [
    "#3. Write a method which throws exception, Call that method in main class without try block \n",
    "def throwexception():\n",
    "    raise Exception(\"This is intentionally thrown an exception.\")\n",
    "def main():\n",
    "    throwexception()\n",
    "main()"
   ]
  },
  {
   "cell_type": "code",
   "execution_count": 20,
   "id": "144f222b",
   "metadata": {},
   "outputs": [
    {
     "name": "stdout",
     "output_type": "stream",
     "text": [
      "Enter any numer:0\n",
      "Error: division with zeo is not possible.\n"
     ]
    }
   ],
   "source": [
    "#4. Write a program with multiple catch blocks \n",
    "try:\n",
    "    n=int(input(\"Enter any numer:\"))\n",
    "    result=10/n\n",
    "    print(\"Result:\",result)\n",
    "except ZeroDivisionError:\n",
    "    print(\"Error: division with zeo is not possible.\")\n",
    "except ValueError:\n",
    "    print(\"different value type of input is allowed\")\n",
    "except Exception as e:\n",
    "    print(\"Different undefined error is not allowed.\")\n"
   ]
  },
  {
   "cell_type": "code",
   "execution_count": 15,
   "id": "4c7e1062",
   "metadata": {},
   "outputs": [
    {
     "name": "stdout",
     "output_type": "stream",
     "text": [
      "Enter a positive number:?\n",
      "Value Error is occur when used other charectors.\n"
     ]
    }
   ],
   "source": [
    "#5. Write a program to throw exception with your own message \n",
    "class customException(Exception):\n",
    "    pass\n",
    "def check_value(value):\n",
    "    if value<0:\n",
    "        print(\"Negative values are not allowed.\")\n",
    "def main():\n",
    "    try:\n",
    "        num=int(input(\"Enter a positive number:\"))\n",
    "        check_value(num)\n",
    "        print(\"You Entered number is:\",num)\n",
    "    except ValueError:\n",
    "        print(\"Value Error is occur when used other charectors.\")\n",
    "    except customException as e:\n",
    "        print(\"customException is:\",e)\n",
    "main()"
   ]
  },
  {
   "cell_type": "code",
   "execution_count": 19,
   "id": "11c553c0",
   "metadata": {},
   "outputs": [
    {
     "name": "stdout",
     "output_type": "stream",
     "text": [
      "Enter any number:9\n",
      "Your are not eligible to vote.Provided age:9\n"
     ]
    }
   ],
   "source": [
    "#6. Write a program to create your own exception\n",
    "def customException(Exception):\n",
    "    pass\n",
    "def checkvalue(value):\n",
    "    if value<18:\n",
    "        print(\"Your are not eligible to vote.Provided age:{}\".format(value))\n",
    "    else:\n",
    "        print(\"You are eligible to vote\")\n",
    "def main():\n",
    "    try:\n",
    "        n=int(input(\"Enter any number:\"))\n",
    "        checkvalue(n)\n",
    "    except customException as e:\n",
    "        print('Customexception is:'.e)\n",
    "    except ValueError:\n",
    "        print(\"value type error is not allowed.\")\n",
    "main()"
   ]
  },
  {
   "cell_type": "code",
   "execution_count": 21,
   "id": "61abc875",
   "metadata": {},
   "outputs": [
    {
     "name": "stdout",
     "output_type": "stream",
     "text": [
      "Enter any number:0\n",
      "division with zero is not allowed\n",
      "Exceution completed.\n"
     ]
    }
   ],
   "source": [
    "#7. Write a program with finally block\n",
    "try:\n",
    "    n=int(input(\"Enter any number:\"))\n",
    "    r=10/n\n",
    "    print(\"Result:\",r)\n",
    "except ZeroDivisionError:\n",
    "    print(\"division with zero is not allowed\")\n",
    "except ValueError:\n",
    "    print(\"different value type isnot allowed.\")\n",
    "except Exceptin as e:\n",
    "    print(\"different exception :\",e)\n",
    "finally:\n",
    "    print(\"Exceution completed.\")\n",
    "    "
   ]
  },
  {
   "cell_type": "code",
   "execution_count": 23,
   "id": "6be935ca",
   "metadata": {},
   "outputs": [
    {
     "name": "stdout",
     "output_type": "stream",
     "text": [
      "Enter any value:0\n"
     ]
    },
    {
     "ename": "ZeroDivisionError",
     "evalue": "division by zero",
     "output_type": "error",
     "traceback": [
      "\u001b[1;31m---------------------------------------------------------------------------\u001b[0m",
      "\u001b[1;31mZeroDivisionError\u001b[0m                         Traceback (most recent call last)",
      "Input \u001b[1;32mIn [23]\u001b[0m, in \u001b[0;36m<cell line: 2>\u001b[1;34m()\u001b[0m\n\u001b[0;32m      1\u001b[0m n\u001b[38;5;241m=\u001b[39m\u001b[38;5;28mint\u001b[39m(\u001b[38;5;28minput\u001b[39m(\u001b[38;5;124m\"\u001b[39m\u001b[38;5;124mEnter any value:\u001b[39m\u001b[38;5;124m\"\u001b[39m))\n\u001b[1;32m----> 2\u001b[0m \u001b[38;5;28mprint\u001b[39m(\u001b[38;5;124m\"\u001b[39m\u001b[38;5;124mResult is:\u001b[39m\u001b[38;5;124m\"\u001b[39m,\u001b[38;5;241;43m10\u001b[39;49m\u001b[38;5;241;43m/\u001b[39;49m\u001b[43mn\u001b[49m)\n",
      "\u001b[1;31mZeroDivisionError\u001b[0m: division by zero"
     ]
    }
   ],
   "source": [
    "#8. Write a program to generate Arithmetic Exception \n",
    "n=int(input(\"Enter any value:\"))\n",
    "print(\"Result is:\",10/n)\n"
   ]
  },
  {
   "cell_type": "code",
   "execution_count": 25,
   "id": "65e3b5a8",
   "metadata": {},
   "outputs": [
    {
     "ename": "FileNotFoundError",
     "evalue": "[Errno 2] No such file or directory: 'exam.txt'",
     "output_type": "error",
     "traceback": [
      "\u001b[1;31m---------------------------------------------------------------------------\u001b[0m",
      "\u001b[1;31mFileNotFoundError\u001b[0m                         Traceback (most recent call last)",
      "Input \u001b[1;32mIn [25]\u001b[0m, in \u001b[0;36m<cell line: 1>\u001b[1;34m()\u001b[0m\n\u001b[1;32m----> 1\u001b[0m file\u001b[38;5;241m=\u001b[39m\u001b[38;5;28;43mopen\u001b[39;49m\u001b[43m(\u001b[49m\u001b[38;5;124;43m'\u001b[39;49m\u001b[38;5;124;43mexam.txt\u001b[39;49m\u001b[38;5;124;43m'\u001b[39;49m\u001b[43m,\u001b[49m\u001b[38;5;124;43m'\u001b[39;49m\u001b[38;5;124;43mr\u001b[39;49m\u001b[38;5;124;43m'\u001b[39;49m\u001b[43m)\u001b[49m\n\u001b[0;32m      2\u001b[0m content\u001b[38;5;241m=\u001b[39mfile\u001b[38;5;241m.\u001b[39mread()\n\u001b[0;32m      3\u001b[0m \u001b[38;5;28mprint\u001b[39m(content)\n",
      "\u001b[1;31mFileNotFoundError\u001b[0m: [Errno 2] No such file or directory: 'exam.txt'"
     ]
    }
   ],
   "source": [
    "#9. Write a program to generate FileNotFoundException\n",
    "file=open('exam.txt','r')\n",
    "content=file.read()\n",
    "print(content)\n",
    "file.close()"
   ]
  },
  {
   "cell_type": "code",
   "execution_count": 30,
   "id": "68dce031",
   "metadata": {},
   "outputs": [
    {
     "ename": "ModuleNotFoundError",
     "evalue": "No module named 'hello'",
     "output_type": "error",
     "traceback": [
      "\u001b[1;31m---------------------------------------------------------------------------\u001b[0m",
      "\u001b[1;31mModuleNotFoundError\u001b[0m                       Traceback (most recent call last)",
      "Input \u001b[1;32mIn [30]\u001b[0m, in \u001b[0;36m<cell line: 2>\u001b[1;34m()\u001b[0m\n\u001b[0;32m      1\u001b[0m \u001b[38;5;66;03m#10. Write a program to generate ClassNotFoundException \u001b[39;00m\n\u001b[1;32m----> 2\u001b[0m \u001b[38;5;28;01mimport\u001b[39;00m \u001b[38;5;21;01mhello\u001b[39;00m\n\u001b[0;32m      3\u001b[0m \u001b[38;5;28mprint\u001b[39m(hello\u001b[38;5;241m.\u001b[39ma)\n",
      "\u001b[1;31mModuleNotFoundError\u001b[0m: No module named 'hello'"
     ]
    }
   ],
   "source": [
    "#10. Write a program to generate ClassNotFoundException \n",
    "import hello\n",
    "print(hello.a)"
   ]
  },
  {
   "cell_type": "code",
   "execution_count": 37,
   "id": "ffd0e9d3",
   "metadata": {},
   "outputs": [
    {
     "name": "stdout",
     "output_type": "stream",
     "text": [
      "IOError is occured if file was not thier to access\n"
     ]
    }
   ],
   "source": [
    "#11. Write a program to generate IOException.\n",
    "def generateIOError():\n",
    "    try:\n",
    "        with open(\"hello.txt\",'r') as file:\n",
    "            file.read()\n",
    "    except IOError:\n",
    "        print(\"IOError is occured if file was not thier to access\")\n",
    "generateIOError()"
   ]
  },
  {
   "cell_type": "code",
   "execution_count": 42,
   "id": "81fbe3ee",
   "metadata": {},
   "outputs": [
    {
     "name": "stdout",
     "output_type": "stream",
     "text": [
      "KeyError : the key address is does not existed in dictionary.\n"
     ]
    }
   ],
   "source": [
    "#12.Write a program to geenerate NoSuchFileException.\n",
    "def generating_Error(data,key):\n",
    "    try:\n",
    "        return data[key]\n",
    "    except KeyError:\n",
    "        print(f'KeyError : the key {key} is does not existed in dictionary.')\n",
    "def main():\n",
    "    sample={'name':\"Srinivas\", 'age':23}\n",
    "    generating_Error(sample,'address')\n",
    "main()"
   ]
  }
 ],
 "metadata": {
  "kernelspec": {
   "display_name": "Python 3 (ipykernel)",
   "language": "python",
   "name": "python3"
  },
  "language_info": {
   "codemirror_mode": {
    "name": "ipython",
    "version": 3
   },
   "file_extension": ".py",
   "mimetype": "text/x-python",
   "name": "python",
   "nbconvert_exporter": "python",
   "pygments_lexer": "ipython3",
   "version": "3.9.12"
  }
 },
 "nbformat": 4,
 "nbformat_minor": 5
}
