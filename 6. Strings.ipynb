{
 "cells": [
  {
   "cell_type": "code",
   "execution_count": 10,
   "id": "af132ec6",
   "metadata": {},
   "outputs": [
    {
     "name": "stdout",
     "output_type": "stream",
     "text": [
      "1.Using Single Quotes: Srinivas\n",
      "2. Using Double quotes: Srinivas\n",
      "3.Using str method: 123\n",
      "4.Using Tiple Single quotes:  Hello,\n",
      "     Srinivas!\n",
      "5.Using Triple Double quotes:  Hello,\n",
      "     Srinivas!\n",
      "6.Using f-Strings : Helllo,Srinivas!\n",
      "7.Using format: Hello,Srinivas!\n",
      "8.Using %: Hello, Srinivas!\n"
     ]
    }
   ],
   "source": [
    "#1. Different ways creating a string\n",
    "str1='Srinivas'\n",
    "print(\"1.Using Single Quotes:\",str1)\n",
    "\n",
    "str2=\"Srinivas\"\n",
    "print(\"2. Using Double quotes:\",str2)\n",
    "\n",
    "str3=123\n",
    "print(\"3.Using str method:\",str(str3))\n",
    "\n",
    "str4=''' Hello,\n",
    "     Srinivas!'''\n",
    "print(\"4.Using Tiple Single quotes:\",str4)\n",
    "\n",
    "str5=\"\"\" Hello,\n",
    "     Srinivas!\"\"\"\n",
    "print(\"5.Using Triple Double quotes:\",str5)\n",
    "\n",
    "name='Srinivas'\n",
    "str6=f'Helllo,{name}!'\n",
    "print(\"6.Using f-Strings :\",str6)\n",
    "\n",
    "str7='Hello,{}!'.format('Srinivas')\n",
    "print(\"7.Using format:\",str7)\n",
    "\n",
    "str8='Hello, %s!'% 'Srinivas'\n",
    "print(\"8.Using %:\",str8)\n"
   ]
  },
  {
   "cell_type": "code",
   "execution_count": 14,
   "id": "a0bc67d5",
   "metadata": {},
   "outputs": [
    {
     "name": "stdout",
     "output_type": "stream",
     "text": [
      "Concatenation using + operator: Yarramasu Srinivas Chowdary\n"
     ]
    }
   ],
   "source": [
    "#2. Concatenating two strings using + operator\n",
    "a=\"Yarramasu\"\n",
    "b=\"Srinivas\"\n",
    "c=\"Chowdary\"\n",
    "d=a+' '+b+' '+c\n",
    "print(\"Concatenation using + operator:\",d)"
   ]
  },
  {
   "cell_type": "code",
   "execution_count": 17,
   "id": "76cc7465",
   "metadata": {},
   "outputs": [
    {
     "name": "stdout",
     "output_type": "stream",
     "text": [
      "8\n"
     ]
    }
   ],
   "source": [
    "#3. Finding the length of the string \n",
    "s='srinivas'\n",
    "count=0\n",
    "for i in s:\n",
    "    count+=1\n",
    "print(count)"
   ]
  },
  {
   "cell_type": "code",
   "execution_count": 25,
   "id": "92b24e22",
   "metadata": {},
   "outputs": [
    {
     "name": "stdout",
     "output_type": "stream",
     "text": [
      "Srinivas Chowdary\n",
      "Chowdary\n",
      "nivas Cho\n",
      "yradwohC savinirS\n"
     ]
    }
   ],
   "source": [
    "#4. Extract a string using Substring .\n",
    "s='Srinivas Chowdary'\n",
    "print(s[:])\n",
    "print(s[9:])\n",
    "print(s[3:12])\n",
    "print(s[::-1])"
   ]
  },
  {
   "cell_type": "code",
   "execution_count": 27,
   "id": "335beec7",
   "metadata": {},
   "outputs": [
    {
     "name": "stdout",
     "output_type": "stream",
     "text": [
      "7\n",
      "25\n",
      "15\n"
     ]
    }
   ],
   "source": [
    "#5. Searching in strings using index() \n",
    "string = \"Python is fun. Python is powerful.\"\n",
    "print(string.index('is'))\n",
    "print(string.index(\"p\"))\n",
    "index_position = string.index('Python', 10) \n",
    "print(index_position)"
   ]
  },
  {
   "cell_type": "code",
   "execution_count": 28,
   "id": "ccb703a0",
   "metadata": {},
   "outputs": [
    {
     "name": "stdout",
     "output_type": "stream",
     "text": [
      "No match found.\n"
     ]
    }
   ],
   "source": [
    "#6. Matching a String Against a Regular Expression With matches()\n",
    "import re\n",
    "\n",
    "string = \"HelloWorld\"\n",
    "pattern = r'Hello\\d+'  \n",
    "\n",
    "if re.match(pattern, string):\n",
    "    print(\"Pattern matches!\")\n",
    "else:\n",
    "    print(\"No match found.\")\n"
   ]
  },
  {
   "cell_type": "code",
   "execution_count": 35,
   "id": "6ae922e3",
   "metadata": {},
   "outputs": [
    {
     "name": "stdout",
     "output_type": "stream",
     "text": [
      "True\n",
      "False\n",
      "False\n",
      "True\n",
      "False\n",
      "True\n",
      "APPLE\n",
      "orange\n",
      "True\n"
     ]
    }
   ],
   "source": [
    "#7. Comparing strings  \n",
    "s1='apple'\n",
    "s2='apple'\n",
    "s3='OranGe'\n",
    "print(s1==s2)\n",
    "print(s1!=s2)\n",
    "print(s1<s2)\n",
    "print(s1<=s2)\n",
    "print(s1>s2)\n",
    "print(s1>=s2)\n",
    "print(s1.upper())\n",
    "print(s3.lower())\n",
    "print(s1 is s2)"
   ]
  },
  {
   "cell_type": "code",
   "execution_count": 42,
   "id": "c677dd4f",
   "metadata": {},
   "outputs": [
    {
     "name": "stdout",
     "output_type": "stream",
     "text": [
      "False\n",
      "True\n",
      "-1\n"
     ]
    }
   ],
   "source": [
    "#8. startsWith(), endsWith() and compareTo() \n",
    "s1=\"Srinvias\"\n",
    "s2='Chowdary'\n",
    "print(s1.startswith('s'))\n",
    "print(s2.endswith('y'))\n",
    "def compareTo(str1, str2):\n",
    "    if str1 == str2:\n",
    "        return 0\n",
    "    elif str1 < str2:\n",
    "        return -1\n",
    "    else:\n",
    "        return 1\n",
    "print(compareTo(\"apple\", \"banana\")) \n"
   ]
  },
  {
   "cell_type": "code",
   "execution_count": 44,
   "id": "7072d79f",
   "metadata": {},
   "outputs": [
    {
     "name": "stdout",
     "output_type": "stream",
     "text": [
      "Before striping:      Hello, Srinivas!      \n",
      "After striping: Hello, Srinivas!\n"
     ]
    }
   ],
   "source": [
    "#9. Trimming strings with strip()\n",
    "string=\"     Hello, Srinivas!      \"\n",
    "print(\"Before striping:\",string)\n",
    "print(\"After striping:\",string.strip())"
   ]
  },
  {
   "cell_type": "code",
   "execution_count": 46,
   "id": "dc872837",
   "metadata": {},
   "outputs": [
    {
     "name": "stdout",
     "output_type": "stream",
     "text": [
      "Hello Python\n",
      "Hello Srinivas\n",
      "Hero Java\n"
     ]
    }
   ],
   "source": [
    "#10. Replacing characters in strings with replace()\n",
    "str1='Hello Java'\n",
    "print(str1.replace('Java','Python'))\n",
    "print(str1.replace('Java','Srinivas'))\n",
    "print(str1.replace('ll','r'))"
   ]
  },
  {
   "cell_type": "code",
   "execution_count": 57,
   "id": "524de077",
   "metadata": {},
   "outputs": [
    {
     "name": "stdout",
     "output_type": "stream",
     "text": [
      "splitting strings: ['srinivas', 'is', 'very', 'good', 'full', 'stack', 'python', 'developer']\n",
      "splitting strings: ['srinivas', 'is', 'very good full stack python developer']\n"
     ]
    }
   ],
   "source": [
    "#11. Splitting strings with split() \n",
    "s1=\"srinivas is very good full stack python developer\"\n",
    "print(\"splitting strings:\",s1.split())\n",
    "print(\"splitting strings:\",s1.split(\" \",2))"
   ]
  },
  {
   "cell_type": "code",
   "execution_count": 62,
   "id": "1748e203",
   "metadata": {},
   "outputs": [
    {
     "name": "stdout",
     "output_type": "stream",
     "text": [
      "integer: <class 'int'>\n",
      "string: <class 'str'>\n"
     ]
    }
   ],
   "source": [
    "#12. Converting integer objects to Strings\n",
    "s=123\n",
    "print(\"integer:\",type(s))\n",
    "print(\"string:\",type(str(s)))"
   ]
  },
  {
   "cell_type": "code",
   "execution_count": 65,
   "id": "e0f3018c",
   "metadata": {},
   "outputs": [
    {
     "name": "stdout",
     "output_type": "stream",
     "text": [
      "hello mr.srinivas, how are you?\n",
      "HELLO MR.SRINIVAS, HOW ARE YOU?\n"
     ]
    }
   ],
   "source": [
    "#13. Converting to uppercase and lowercase\n",
    "s1='hello Mr.Srinivas, How are you?'\n",
    "print(s1.lower())\n",
    "print(s1.upper())"
   ]
  }
 ],
 "metadata": {
  "kernelspec": {
   "display_name": "Python 3 (ipykernel)",
   "language": "python",
   "name": "python3"
  },
  "language_info": {
   "codemirror_mode": {
    "name": "ipython",
    "version": 3
   },
   "file_extension": ".py",
   "mimetype": "text/x-python",
   "name": "python",
   "nbconvert_exporter": "python",
   "pygments_lexer": "ipython3",
   "version": "3.9.12"
  }
 },
 "nbformat": 4,
 "nbformat_minor": 5
}
