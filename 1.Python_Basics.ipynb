{
 "cells": [
  {
   "cell_type": "code",
   "execution_count": 1,
   "metadata": {},
   "outputs": [
    {
     "name": "stdout",
     "output_type": "stream",
     "text": [
      "YARRAMASU SRINIVAS\n"
     ]
    }
   ],
   "source": [
    "print(\"YARRAMASU SRINIVAS\")"
   ]
  },
  {
   "cell_type": "code",
   "execution_count": 2,
   "metadata": {},
   "outputs": [
    {
     "name": "stdout",
     "output_type": "stream",
     "text": [
      "single line comments starts with #\n",
      "Multple lines starts with double quotes or single quotes\n"
     ]
    },
    {
     "data": {
      "text/plain": [
       "' This is the multple line comment:--\\nThis is first line.\\nThis is second line.\\nThis is third line.\\n..............\\n'"
      ]
     },
     "execution_count": 2,
     "metadata": {},
     "output_type": "execute_result"
    }
   ],
   "source": [
    "print(\"single line comments starts with #\")\n",
    "# This is the single line comment\n",
    "print(\"Multple lines starts with double quotes or single quotes\")\n",
    "\"\"\" This is the multple line comment:--\n",
    "This is first line.\n",
    "This is second line.\n",
    "This is third line.\n",
    "..............\n",
    "\"\"\""
   ]
  },
  {
   "cell_type": "code",
   "execution_count": 3,
   "metadata": {},
   "outputs": [
    {
     "name": "stdout",
     "output_type": "stream",
     "text": [
      "Local variable x: 10\n",
      "Global variable x: 50\n"
     ]
    }
   ],
   "source": [
    "x = 50\n",
    "\n",
    "def my_function():\n",
    "    # Local variable with the same name\n",
    "    x = 10\n",
    "    print(\"Local variable x:\", x)\n",
    "\n",
    "my_function()\n",
    "print(\"Global variable x:\", x)"
   ]
  },
  {
   "cell_type": "code",
   "execution_count": 4,
   "metadata": {},
   "outputs": [
    {
     "name": "stdout",
     "output_type": "stream",
     "text": [
      "Integer: 10\n",
      "Boolean: True\n",
      "Character: Srinivas\n",
      "Float: 10.5\n",
      "Double: 20.123456789\n"
     ]
    }
   ],
   "source": [
    "integer_var = 10           \n",
    "boolean_var = True         \n",
    "char_var = 'Srinivas'             \n",
    "float_var = 10.5          \n",
    "double_var = 20.123456789  \n",
    "\n",
    "print(\"Integer:\", integer_var)\n",
    "print(\"Boolean:\", boolean_var)\n",
    "print(\"Character:\", char_var)\n",
    "print(\"Float:\", float_var)\n",
    "print(\"Double:\", double_var)"
   ]
  }
 ],
 "metadata": {
  "kernelspec": {
   "display_name": "Python 3",
   "language": "python",
   "name": "python3"
  },
  "language_info": {
   "codemirror_mode": {
    "name": "ipython",
    "version": 3
   },
   "file_extension": ".py",
   "mimetype": "text/x-python",
   "name": "python",
   "nbconvert_exporter": "python",
   "pygments_lexer": "ipython3",
   "version": "3.11.2"
  }
 },
 "nbformat": 4,
 "nbformat_minor": 2
}
