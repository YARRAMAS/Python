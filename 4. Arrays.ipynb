{
 "cells": [
  {
   "cell_type": "code",
   "execution_count": 28,
   "id": "f8f7e5a4",
   "metadata": {},
   "outputs": [
    {
     "name": "stdout",
     "output_type": "stream",
     "text": [
      "Sum of values in an array are: 10\n"
     ]
    }
   ],
   "source": [
    "#1. Write a function to add integer values of an array\n",
    "a=[1,2,3,4]\n",
    "def adding(a):\n",
    "    sum=0\n",
    "    for i in range(len(a)):\n",
    "        sum+=a[i]\n",
    "    return sum\n",
    "print(\"Sum of values in an array are:\",adding(a))"
   ]
  },
  {
   "cell_type": "code",
   "execution_count": 36,
   "id": "ea3deece",
   "metadata": {},
   "outputs": [
    {
     "name": "stdout",
     "output_type": "stream",
     "text": [
      "Average value of an array of integers: 2.5\n"
     ]
    }
   ],
   "source": [
    "#2. Write a function to calculate the average value of an array of integers\n",
    "b=[1,2,3,4]\n",
    "def average(b):\n",
    "    s=0\n",
    "    for i in range(len(b)):\n",
    "        s+=b[i]\n",
    "    return s\n",
    "\n",
    "print(\"Average value of an array of integers:\", average(b)/len(b))"
   ]
  },
  {
   "cell_type": "code",
   "execution_count": 20,
   "id": "ab0b63a9",
   "metadata": {},
   "outputs": [
    {
     "name": "stdout",
     "output_type": "stream",
     "text": [
      "Enter any number in the array:3\n",
      "Index of  3  is: 2\n"
     ]
    }
   ],
   "source": [
    "#3. Write a program to find the index of an array element \n",
    "a=[1,2,3,4,5]\n",
    "n=int(input(\"Enter any number in the array:\"))\n",
    "for i in range(len(a)):\n",
    "    if n==a[i]:\n",
    "        print(\"Index of \",n, \" is:\",i)"
   ]
  },
  {
   "cell_type": "code",
   "execution_count": 12,
   "id": "874a2601",
   "metadata": {},
   "outputs": [
    {
     "name": "stdout",
     "output_type": "stream",
     "text": [
      "Enter elements by space 1 2 3 4 5\n",
      "Enter any element:3\n",
      "True\n"
     ]
    }
   ],
   "source": [
    "#4. Write a function to test if array contains a specific value\n",
    "a=list(map(int,input(\"Enter elements by space \").split()))\n",
    "e=int(input(\"Enter any element:\"))\n",
    "def test_element(a,e):\n",
    "    for i in a:\n",
    "        if e==i:\n",
    "            return True\n",
    "    return False\n",
    "print(test_element(a,e))    \n"
   ]
  },
  {
   "cell_type": "code",
   "execution_count": 21,
   "id": "96896f4b",
   "metadata": {},
   "outputs": [
    {
     "name": "stdout",
     "output_type": "stream",
     "text": [
      "Enter elements by space 1 2 3 4 5\n",
      "Enter any element:2\n",
      "[1, 3, 4, 5]\n"
     ]
    }
   ],
   "source": [
    "#5.Write a function to remove a specific element from an array\n",
    "a=list(map(int,input(\"Enter elements by space \").split()))\n",
    "e=int(input(\"Enter any element:\"))\n",
    "def test_element(a,e):\n",
    "    result=[]\n",
    "    for i in a:\n",
    "        if e!=i:\n",
    "            result.append(i)\n",
    "    return result\n",
    "print(test_element(a,e))    \n"
   ]
  },
  {
   "cell_type": "code",
   "execution_count": 25,
   "id": "9c9707a8",
   "metadata": {},
   "outputs": [
    {
     "name": "stdout",
     "output_type": "stream",
     "text": [
      "enter elements with space separation:1 2 3 4\n",
      "Original array: [1, 2, 3, 4]\n",
      "copied array is: [1, 2, 3, 4]\n"
     ]
    }
   ],
   "source": [
    "#6. Write a function to copy an array to another array \n",
    "a=list(map(int,input(\"enter elements with space separation:\").split()))\n",
    "print(\"Original array:\",a)\n",
    "def copying(a):\n",
    "    res=[]\n",
    "    for i in a:\n",
    "        res.append(i)\n",
    "    return res\n",
    "\n",
    "print(\"copied array is:\",copying(a))\n",
    "        "
   ]
  },
  {
   "cell_type": "code",
   "execution_count": 26,
   "id": "9b54534e",
   "metadata": {},
   "outputs": [
    {
     "name": "stdout",
     "output_type": "stream",
     "text": [
      "Enter elements with space separation:1 2 3 4\n",
      "Enter any element to instert:234\n",
      "Enter the position to enter the given element:2\n",
      "[1, 234, 3, 4]\n"
     ]
    }
   ],
   "source": [
    "#7. Write a function to insert an element at a specific position in the array \n",
    "a=list(map(int,input(\"Enter elements with space separation:\").split()))\n",
    "ele=int(input(\"Enter any element to instert:\"))\n",
    "pos=int(input(\"Enter the position to enter the given element:\"))\n",
    "def insert_any(a,ele,pos):\n",
    "    for i in range(len(a)):\n",
    "        if i==pos:\n",
    "            a[pos-1]=ele\n",
    "    return a\n",
    "print(insert_any(a,ele,pos))"
   ]
  },
  {
   "cell_type": "code",
   "execution_count": 28,
   "id": "28b41911",
   "metadata": {},
   "outputs": [
    {
     "name": "stdout",
     "output_type": "stream",
     "text": [
      "Enter elements with space separation:3 2 4 1 5 6 3 2 45 65 2 11 1 \n",
      "Minimum and maximum elements of an array (1, 65)\n"
     ]
    }
   ],
   "source": [
    "#8. Write a function to find the minimum and maximum value of an array \n",
    "a=list(map(int,input(\"Enter elements with space separation:\").split()))\n",
    "def min_max(a):\n",
    "    min=a[0]\n",
    "    max=a[len(a)-1]\n",
    "    for i in range(len(a)):\n",
    "        if min>a[i]:\n",
    "            min=a[i]\n",
    "        if max<a[i]:\n",
    "            max=a[i]\n",
    "    return min,max\n",
    "print(\"Minimum and maximum elements of an array\",min_max(a))"
   ]
  },
  {
   "cell_type": "code",
   "execution_count": 1,
   "id": "b7cebdb4",
   "metadata": {},
   "outputs": [
    {
     "name": "stdout",
     "output_type": "stream",
     "text": [
      "Enter elements with space separation:1 2 3 4 5\n",
      "Original Arraya is: [1, 2, 3, 4, 5]\n",
      " Reversed array is: [5, 4, 3, 2, 1]\n"
     ]
    }
   ],
   "source": [
    "#9. Write a function to reverse an array of integer values \n",
    "a=list(map(int,input(\"Enter elements with space separation:\").split()))\n",
    "print(\"Original Arraya is:\",a)\n",
    "def reversed_array(a):\n",
    "    rev=[]\n",
    "    for i in range(len(a)-1,-1,-1):\n",
    "        rev.append(a[i])\n",
    "    return rev\n",
    "print(\" Reversed array is:\" ,reversed_array(a))"
   ]
  },
  {
   "cell_type": "code",
   "execution_count": 16,
   "id": "118214c5",
   "metadata": {},
   "outputs": [
    {
     "name": "stdout",
     "output_type": "stream",
     "text": [
      "Enter elements with space separation:1 2 3 4 1 2 3 1 2 1\n",
      "Original Arraya is: [1, 2, 3, 4, 1, 2, 3, 1, 2, 1]\n",
      "duplicated elements are: [1, 2, 3]\n"
     ]
    }
   ],
   "source": [
    "#10. Write a function to find the duplicate values of an array\n",
    "a=list(map(int,input(\"Enter elements with space separation:\").split()))\n",
    "print(\"Original Arraya is:\",a)\n",
    "def duplicates(a):\n",
    "    res=set()\n",
    "    for i in range(len(a)):\n",
    "        for j in range(i):\n",
    "            if a[i]==a[j]:\n",
    "                res.add(a[j])\n",
    "    return res\n",
    "e=list(duplicates(a))\n",
    "\n",
    "print(\"duplicated elements are:\",e)\n",
    "            "
   ]
  },
  {
   "cell_type": "code",
   "execution_count": 1,
   "id": "feacb243",
   "metadata": {},
   "outputs": [
    {
     "name": "stdout",
     "output_type": "stream",
     "text": [
      "Enter values to first array with space separation:1 2 3 4 5\n",
      "Enter values to second array with space separation:3 4 5 6\n",
      "Common elements are: [3, 4, 5]\n"
     ]
    }
   ],
   "source": [
    "#11. Write a program to find the common values between two arrays \n",
    "a=list(map(int,input(\"Enter values to first array with space separation:\").split()))\n",
    "b=list(map(int,input(\"Enter values to second array with space separation:\").split()))\n",
    "def common_elements(a,b):\n",
    "    common=[]\n",
    "    for i in range(len(a)):\n",
    "        for j in range(len(b)):\n",
    "            if a[i]==b[j]:\n",
    "                common.append(b[j])\n",
    "    return common\n",
    "print(\"Common elements are:\", common_elements(a,b))"
   ]
  },
  {
   "cell_type": "code",
   "execution_count": 5,
   "id": "65320c43",
   "metadata": {},
   "outputs": [
    {
     "name": "stdout",
     "output_type": "stream",
     "text": [
      "Enter elements with space separation:1 2 3 4 1 2 3 1 2 1\n",
      "array after removing duplicates: [1, 2, 3, 4]\n"
     ]
    }
   ],
   "source": [
    "#12. Write a method to remove duplicate elements from an array\n",
    "arr=list(map(int,input(\"Enter elements with space separation:\").split()))\n",
    "def remove_duplicates(arr):\n",
    "    result=set()\n",
    "    for i in range(len(arr)):\n",
    "        for j in range(i):\n",
    "            if arr[i]!=arr[j]:\n",
    "                result.add(arr[i])\n",
    "    return result\n",
    "l=list(remove_duplicates(arr))\n",
    "print(\"array after removing duplicates:\",l)"
   ]
  },
  {
   "cell_type": "code",
   "execution_count": 11,
   "id": "27777bbe",
   "metadata": {},
   "outputs": [
    {
     "name": "stdout",
     "output_type": "stream",
     "text": [
      "Enter elements with space separation:1 2 3 4 5 4 3 2\n",
      "Second largest element in array: 4\n"
     ]
    }
   ],
   "source": [
    "#13. Write a method to find the second largest number in an array\n",
    "arr=list(map(int,input(\"Enter elements with space separation:\").split()))\n",
    "def second_largest(arr):\n",
    "    first,second=float('-inf'),float('-inf')\n",
    "    for i in arr:\n",
    "        if i>first:\n",
    "            second=first\n",
    "            first=i\n",
    "        elif first>i>second:\n",
    "            second=i\n",
    "    return second if second!=float('-inf') else None\n",
    "print(\"Second largest element in array:\",second_largest(arr))"
   ]
  },
  {
   "cell_type": "code",
   "execution_count": 18,
   "id": "3976e1b9",
   "metadata": {},
   "outputs": [
    {
     "name": "stdout",
     "output_type": "stream",
     "text": [
      "Enter elements with space separation:1 2 3 4 5\n",
      "('even elements:', 2, 'odd elements:', 3)\n"
     ]
    }
   ],
   "source": [
    "#14. Write a method to find number of even number and odd numbers in an array\n",
    "arr=list(map(int,input(\"Enter elements with space separation:\").split()))\n",
    "def evenodd(arr):\n",
    "    even=0\n",
    "    odd=0\n",
    "    for i in arr:\n",
    "        if i%2==0:\n",
    "            even+=1\n",
    "        else:\n",
    "            odd+=1\n",
    "    return \"even elements:\",even,\"odd elements:\",odd\n",
    "print(evenodd(arr))"
   ]
  },
  {
   "cell_type": "code",
   "execution_count": 29,
   "id": "010ee055",
   "metadata": {},
   "outputs": [
    {
     "name": "stdout",
     "output_type": "stream",
     "text": [
      "Enter elements with space separation:5 4 3 2 \n",
      "Difference between largest adn smallast is: 3\n"
     ]
    }
   ],
   "source": [
    "#15. Write a function to get the difference of largest and smallest value\n",
    "arr=list(map(int,input(\"Enter elements with space separation:\").split()))\n",
    "def difference(arr):\n",
    "    n=len(arr)\n",
    "    for i in range(n):\n",
    "        for j in range(0,n-1-i):\n",
    "            if arr[j]>arr[j+1]:\n",
    "                arr[j],arr[j+1]=arr[j+1],arr[j]\n",
    "    return arr[n-1]-arr[0]\n",
    "print(\"Difference between largest adn smallast is:\",difference(arr))"
   ]
  },
  {
   "cell_type": "code",
   "execution_count": 33,
   "id": "3cd05f3d",
   "metadata": {},
   "outputs": [
    {
     "name": "stdout",
     "output_type": "stream",
     "text": [
      "Enter elements with space separation:1 12 2 3  434 23\n",
      "True\n"
     ]
    }
   ],
   "source": [
    "#16. Write a method to verify if the array contains two specified elements(12,23) \n",
    "arr=list(map(int,input(\"Enter elements with space separation:\").split()))\n",
    "ele1=12\n",
    "ele2=23\n",
    "def contain_elements(arr,ele1,ele2):\n",
    "    return ele1 in arr and ele2 in arr\n",
    "print(contain_elements(arr,ele1,ele2))"
   ]
  },
  {
   "cell_type": "code",
   "execution_count": 37,
   "id": "3e5131b3",
   "metadata": {},
   "outputs": [
    {
     "name": "stdout",
     "output_type": "stream",
     "text": [
      "Enter elements with space separation:1 2 3 4 5 1 2 3 4 1 2 3 1 2 1\n",
      "{1, 2, 3, 4, 5}\n"
     ]
    }
   ],
   "source": [
    "#17.  Write a program to remove the duplicate elements and return the new array \n",
    "arr=list(map(int,input(\"Enter elements with space separation:\").split()))\n",
    "def duplicate_elements(arr):\n",
    "    dup=set()\n",
    "    for i in range(len(arr)):\n",
    "        for j in range(1,len(arr)):\n",
    "            if arr[i]!=arr[j]:\n",
    "                dup.add(arr[i])\n",
    "    return dup\n",
    "print(duplicate_elements(arr))"
   ]
  },
  {
   "cell_type": "code",
   "execution_count": 38,
   "id": "b9ba4b76",
   "metadata": {},
   "outputs": [
    {
     "name": "stdout",
     "output_type": "stream",
     "text": [
      "[1, 2, 3, 4, 5, 43]\n"
     ]
    }
   ],
   "source": [
    "def remove_duplicates(a):\n",
    "    return list(set(a))\n",
    "a=[1,2 ,3,4,5,3,2,1,5,43,3]\n",
    "print(remove_duplicates(a))"
   ]
  }
 ],
 "metadata": {
  "kernelspec": {
   "display_name": "Python 3 (ipykernel)",
   "language": "python",
   "name": "python3"
  },
  "language_info": {
   "codemirror_mode": {
    "name": "ipython",
    "version": 3
   },
   "file_extension": ".py",
   "mimetype": "text/x-python",
   "name": "python",
   "nbconvert_exporter": "python",
   "pygments_lexer": "ipython3",
   "version": "3.9.12"
  }
 },
 "nbformat": 4,
 "nbformat_minor": 5
}
