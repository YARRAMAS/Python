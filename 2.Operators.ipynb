{
 "cells": [
  {
   "cell_type": "code",
   "execution_count": 1,
   "metadata": {},
   "outputs": [
    {
     "name": "stdout",
     "output_type": "stream",
     "text": [
      "Addition: 6\n",
      "Subtraction: -2\n",
      "Multiplication: 8\n",
      "Division: 0.5\n"
     ]
    }
   ],
   "source": [
    "#arithmetic operators\n",
    "a=2\n",
    "b=4\n",
    "print(\"Addition:\",a+b)\n",
    "print(\"Subtraction:\",a-b)\n",
    "print(\"Multiplication:\",a*b)\n",
    "print(\"Division:\",a/b)"
   ]
  },
  {
   "cell_type": "code",
   "execution_count": 3,
   "metadata": {},
   "outputs": [
    {
     "name": "stdout",
     "output_type": "stream",
     "text": [
      "Local variable x: 10\n",
      "Global variable x: 50\n"
     ]
    }
   ],
   "source": [
    "#Increment and Decrement\n",
    "\n",
    "x = 50\n",
    "def my_function():\n",
    "    # Local variable with the same name\n",
    "    x = 10\n",
    "    print(\"Local variable x:\", x) \n",
    "\n",
    "my_function()\n",
    "print(\"Global variable x:\", x) \n"
   ]
  },
  {
   "cell_type": "code",
   "execution_count": 2,
   "metadata": {},
   "outputs": [
    {
     "name": "stdout",
     "output_type": "stream",
     "text": [
      "Enter first number:2\n",
      "Enter second number:3\n",
      "Both are not equal.....\n"
     ]
    }
   ],
   "source": [
    "# Equal numbers\n",
    "num1=int(input(\"Enter first number:\"))\n",
    "num2=int(input(\"Enter second number:\"))\n",
    "if num1==num2:\n",
    "    print(\"Both are equal...\")\n",
    "else:\n",
    "    print(\"Both are not equal.....\")"
   ]
  },
  {
   "cell_type": "code",
   "execution_count": 6,
   "metadata": {},
   "outputs": [
    {
     "name": "stdout",
     "output_type": "stream",
     "text": [
      "enter first number:2\n",
      "enter second number:2\n",
      "num1 is less than or equal to num2\n"
     ]
    }
   ],
   "source": [
    "#Relational Operators\n",
    "num1=int(input(\"enter first number:\"))\n",
    "num2=int(input(\"enter second number:\"))\n",
    "if num1<num2:\n",
    "    print(\"num1 is less than num2\")\n",
    "elif num1<=num2:\n",
    "    print(\"num1 is less than or equal to num2\")\n",
    "elif num1>num2:\n",
    "    print(\"num1 is greater than num2\")\n",
    "elif num1>=num2:\n",
    "    print(\"num1 is greater than num2\")\n",
    "else:\n",
    "    print(\"not possible above anyone.\")"
   ]
  },
  {
   "cell_type": "code",
   "execution_count": 9,
   "metadata": {},
   "outputs": [
    {
     "name": "stdout",
     "output_type": "stream",
     "text": [
      "enter first number:2\n",
      "enter second number:3\n",
      "Smaller number is: 2\n",
      "Greater numberis: 3\n"
     ]
    }
   ],
   "source": [
    "a=int(input(\"enter first number:\"))\n",
    "b=int(input(\"enter second number:\"))\n",
    "if a>b:\n",
    "    print(\"Greater number is:\",a)\n",
    "    print(\"Smaller number is:\",b)\n",
    "else:\n",
    "    print(\"Smaller number is:\",a)\n",
    "    print(\"Greater numberis:\",b)"
   ]
  },
  {
   "cell_type": "code",
   "execution_count": null,
   "metadata": {},
   "outputs": [],
   "source": []
  }
 ],
 "metadata": {
  "kernelspec": {
   "display_name": "Python 3 (ipykernel)",
   "language": "python",
   "name": "python3"
  },
  "language_info": {
   "codemirror_mode": {
    "name": "ipython",
    "version": 3
   },
   "file_extension": ".py",
   "mimetype": "text/x-python",
   "name": "python",
   "nbconvert_exporter": "python",
   "pygments_lexer": "ipython3",
   "version": "3.9.12"
  }
 },
 "nbformat": 4,
 "nbformat_minor": 2
}
