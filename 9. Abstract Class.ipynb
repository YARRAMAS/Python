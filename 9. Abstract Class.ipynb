{
 "cells": [
  {
   "cell_type": "code",
   "execution_count": 2,
   "id": "cccb0dd2",
   "metadata": {},
   "outputs": [
    {
     "name": "stdout",
     "output_type": "stream",
     "text": [
      "The dog barks.\n",
      "This animal is sleeping.\n",
      "The lion roars.\n",
      "This animal is sleeping.\n"
     ]
    }
   ],
   "source": [
    "#1. Create an abstract class with abstract and non-abstract methods.\n",
    "from abc import ABC, abstractmethod\n",
    "\n",
    "# Abstract class\n",
    "class Animal(ABC):\n",
    "    #abstract method\n",
    "    @abstractmethod\n",
    "    def sound(self):\n",
    "        pass\n",
    "\n",
    "    # Non-abstract method \n",
    "    def sleep(self):\n",
    "        print(\"This animal is sleeping.\")\n",
    "\n",
    "class Dog(Animal):\n",
    "    \n",
    "    # Implementing the abstract method\n",
    "    def sound(self):\n",
    "        print(\"The dog barks.\")\n",
    "\n",
    "# Subclass inheriting the abstract class\n",
    "class Lion(Animal):\n",
    "    \n",
    "    # Implementing the abstract method\n",
    "    def sound(self):\n",
    "        print(\"The lion roars.\")\n",
    "\n",
    "# Main method to demonstrate usage\n",
    "if __name__ == \"__main__\":\n",
    "    dog = Dog()\n",
    "    dog.sound()       # Calls abstract method implemented in subclass\n",
    "    dog.sleep()       # Calls non-abstract method from abstract class\n",
    "\n",
    "    lion = Lion()\n",
    "    lion.sound()      # Calls abstract method implemented in subclass\n",
    "    lion.sleep()      # Calls non-abstract method from abstract class\n"
   ]
  },
  {
   "cell_type": "code",
   "execution_count": 21,
   "id": "483885a5",
   "metadata": {},
   "outputs": [
    {
     "name": "stdout",
     "output_type": "stream",
     "text": [
      "Radius of the Cicrle is 5.0\n",
      "The area of the Shape \n",
      "The area of the circle is 78.5\n"
     ]
    }
   ],
   "source": [
    "\"\"\"2. Create a sub class for an abstract class. Create an object in the child class for the  \n",
    "abstract class and access the non-abstract methods\"\"\"\n",
    "\n",
    "from abc import ABC, abstractmethod\n",
    "class Shape(ABC):\n",
    "    @abstractmethod\n",
    "    def draw(self):\n",
    "        pass\n",
    "    def print_area(self):\n",
    "        print(\"The area of the Shape \")\n",
    "class Circle(Shape):\n",
    "    def __init__(self,radius):\n",
    "        self.radius=radius\n",
    "    def draw(self):\n",
    "        print(f\"Radius of the Cicrle is {self.radius}\")\n",
    "    def area(self):\n",
    "        a=3.14*self.radius*self.radius\n",
    "        print(f\"The area of the circle is {a}\")\n",
    "if __name__==\"__main__\":\n",
    "    c=Circle(5.0)\n",
    "    c.draw()\n",
    "    c.print_area()\n",
    "    c.area()"
   ]
  },
  {
   "cell_type": "code",
   "execution_count": 25,
   "id": "a83ced93",
   "metadata": {},
   "outputs": [
    {
     "name": "stdout",
     "output_type": "stream",
     "text": [
      "Dog will bark...\n",
      "Dogs habitat is homes are kennels\n"
     ]
    }
   ],
   "source": [
    "#3. Create an instance for the child class in child class and call abstract methods\n",
    "from abc import ABC, abstractmethod\n",
    "class Animal(ABC):\n",
    "    @abstractmethod\n",
    "    def sound(self):\n",
    "        pass\n",
    "    def habitat(self):\n",
    "        pass\n",
    "class Dog(Animal):\n",
    "    def sound(self):\n",
    "        print(\"Dog will bark...\")\n",
    "    def habitat(self):\n",
    "        print(\"Dogs habitat is homes are kennels\")\n",
    "    def all(self):\n",
    "        child=Dog()\n",
    "        child.sound()\n",
    "        child.habitat()\n",
    "if __name__==\"__main__\":\n",
    "    d=Dog()\n",
    "    d.all()"
   ]
  },
  {
   "cell_type": "code",
   "execution_count": 29,
   "id": "8c81eccb",
   "metadata": {},
   "outputs": [
    {
     "name": "stdout",
     "output_type": "stream",
     "text": [
      "Dogs habitat is homes or kennels\n"
     ]
    }
   ],
   "source": [
    "#4.Create an instance for the child class in child class and call non-abstract methods \n",
    "from abc import ABC,abstractmethod\n",
    "class Animal(ABC):\n",
    "    @abstractmethod\n",
    "    def sound(self):\n",
    "        pass\n",
    "    def habitat(self):\n",
    "        print(\"lives in home..\")\n",
    "class Dog(Animal):\n",
    "        def sound(self):\n",
    "            print(\"dog makes barking sound\")\n",
    "        def habitat(self):\n",
    "            print(\"Dogs habitat is homes or kennels\")\n",
    "        def all_charecters(self):\n",
    "            c=Dog()\n",
    "            c.habitat()\n",
    "if __name__==\"__main__\":\n",
    "    do=Dog()\n",
    "    do.all_charecters()"
   ]
  }
 ],
 "metadata": {
  "kernelspec": {
   "display_name": "Python 3 (ipykernel)",
   "language": "python",
   "name": "python3"
  },
  "language_info": {
   "codemirror_mode": {
    "name": "ipython",
    "version": 3
   },
   "file_extension": ".py",
   "mimetype": "text/x-python",
   "name": "python",
   "nbconvert_exporter": "python",
   "pygments_lexer": "ipython3",
   "version": "3.9.12"
  }
 },
 "nbformat": 4,
 "nbformat_minor": 5
}
