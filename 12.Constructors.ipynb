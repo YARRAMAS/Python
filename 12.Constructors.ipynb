{
 "cells": [
  {
   "cell_type": "code",
   "execution_count": 4,
   "id": "1ba83fec",
   "metadata": {},
   "outputs": [
    {
     "name": "stdout",
     "output_type": "stream",
     "text": [
      "Initialising the Deafault Constructor.\n",
      "Default Constructor\n",
      "Inititalisinf the single Argument.\n",
      "One Argument\n",
      "Intialising the two Arguments\n",
      "Two Argument Constructor:Argument-1,Argument-2\n"
     ]
    }
   ],
   "source": [
    "'''1. Write a class with a default constructor, one argument constructor and two argument \n",
    "constructors. Instantiate the class to call all the constructors of that class from a main \n",
    "class '''\n",
    "\n",
    "class MyClass:\n",
    "    def __init__(self):\n",
    "        self.value=\"Default Constructor\"\n",
    "        print(self.value)\n",
    "    def __init__(self,value=None,second=None):\n",
    "        if value is not None and second is not None:\n",
    "            print(f'Two Argument Constructor:{value},{second}')\n",
    "        elif value is not None:\n",
    "            self.value=\"One Argument\"\n",
    "            print(self.value)\n",
    "        else:\n",
    "            self.value=\"Default Constructor\"\n",
    "            print(self.value)\n",
    "class Main:\n",
    "    print(\"Initialising the Deafault Constructor.\")\n",
    "    MyClass()\n",
    "    print(\"Inititalisinf the single Argument.\")\n",
    "    MyClass(\"Argument-1\")\n",
    "    \n",
    "    print(\"Intialising the two Arguments\")\n",
    "    MyClass(\"Argument-1\",\"Argument-2\")\n",
    "if __name__==\"__main__\":\n",
    "    main=Main()"
   ]
  },
  {
   "cell_type": "code",
   "execution_count": 17,
   "id": "0f07075c",
   "metadata": {},
   "outputs": [
    {
     "name": "stdout",
     "output_type": "stream",
     "text": [
      "child default constructor called.\n",
      "Parenct deafult constructor \n",
      "child one argument constructoris called.\n",
      "Parent One argument constructor Argument-1\n"
     ]
    }
   ],
   "source": [
    "'''2. Call the constructors(both default and argument constructors) of super class from a child \n",
    "class '''\n",
    "class Parent:\n",
    "    def __init__(self):\n",
    "        print('Parenct deafult constructor ')\n",
    "    def one_argument_constructor(self,value):\n",
    "        print(f'Parent One argument constructor {value}')\n",
    "        \n",
    "class Child(Parent):\n",
    "    def __init__(self):\n",
    "        print(\"child default constructor called.\")\n",
    "        super().__init__()\n",
    "    def initialise_constructor(self,value):\n",
    "        print(\"child one argument constructoris called.\")\n",
    "        super().one_argument_constructor(value)\n",
    "        \n",
    "if __name__==\"__main__\":\n",
    "    c=Child()\n",
    "    c.initialise_constructor(\"Argument-1\")"
   ]
  },
  {
   "cell_type": "code",
   "execution_count": 40,
   "id": "3cfc4f1f",
   "metadata": {},
   "outputs": [
    {
     "name": "stdout",
     "output_type": "stream",
     "text": [
      "Public Constructor is called.\n",
      "I am a Public \n",
      "Protected constructor is called.\n",
      "Private constructor is called.\n",
      "I am a Protected\n"
     ]
    }
   ],
   "source": [
    "#3. Apply private, public, protected and default access modifiers to the constructor\n",
    "class AccessModifiers:\n",
    "    def __init__(self):\n",
    "        print(\"Public Constructor is called.\")\n",
    "        self.public_constructor=\"I am a Public \"\n",
    "    def display_public(self):\n",
    "        print(self.public_constructor)\n",
    "        \n",
    "    def __private(self):\n",
    "        print(\"Private constructor is called.\")\n",
    "        self.private_constructor=\"I am a private\"\n",
    "    def display_private(self):\n",
    "        print(self.private_constructor)\n",
    "        \n",
    "    def _protected(self):\n",
    "        print(\"Protected constructor is called.\")\n",
    "        self.protected_constructor=\"I am a Protected\"\n",
    "    def display_protected(self):\n",
    "        print(self.protected_constructor)\n",
    "        \n",
    "    def initialise(self):\n",
    "        self._protected()\n",
    "        self.__private()\n",
    "    \n",
    "if __name__==\"__main__\":\n",
    "    a=AccessModifiers()\n",
    "    a.display_public()\n",
    "    a.initialise()\n",
    "    a.display_protected()"
   ]
  },
  {
   "cell_type": "code",
   "execution_count": 45,
   "id": "671337aa",
   "metadata": {},
   "outputs": [
    {
     "name": "stdout",
     "output_type": "stream",
     "text": [
      "Person-1 information:\n",
      "Name:srinivas\n",
      "Age:23\n",
      "City:Hyderabad\n",
      "\n",
      "Person-2 information:\n",
      "Name:Gouse\n",
      "Age:21\n",
      "City:Guntur\n"
     ]
    }
   ],
   "source": [
    "#4. Write a program which illustrates the concept of attributes of a constructor. \n",
    "class Parent:\n",
    "    def __init__(self,name,age,city):\n",
    "        self.name=name\n",
    "        self.age=age\n",
    "        self.city=city\n",
    "    def display_info(self):\n",
    "        print(f'Name:{self.name}')\n",
    "        print(f'Age:{self.age}')\n",
    "        print(f'City:{self.city}')\n",
    "if __name__==\"__main__\":\n",
    "    person1=Parent(\"srinivas\",23,\"Hyderabad\")\n",
    "    print(\"Person-1 information:\")\n",
    "    person1.display_info()\n",
    "    print()\n",
    "    person2=Parent(\"Gouse\",21,\"Guntur\")\n",
    "    print(\"Person-2 information:\")\n",
    "    person2.display_info()"
   ]
  },
  {
   "cell_type": "code",
   "execution_count": null,
   "id": "aab3a8e5",
   "metadata": {},
   "outputs": [],
   "source": []
  }
 ],
 "metadata": {
  "kernelspec": {
   "display_name": "Python 3 (ipykernel)",
   "language": "python",
   "name": "python3"
  },
  "language_info": {
   "codemirror_mode": {
    "name": "ipython",
    "version": 3
   },
   "file_extension": ".py",
   "mimetype": "text/x-python",
   "name": "python",
   "nbconvert_exporter": "python",
   "pygments_lexer": "ipython3",
   "version": "3.9.12"
  }
 },
 "nbformat": 4,
 "nbformat_minor": 5
}
