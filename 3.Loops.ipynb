{
 "cells": [
  {
   "cell_type": "code",
   "execution_count": 3,
   "id": "9d1c8be8",
   "metadata": {},
   "outputs": [
    {
     "name": "stdout",
     "output_type": "stream",
     "text": [
      "1 -->Bright IT Career\n",
      "2 -->Bright IT Career\n",
      "3 -->Bright IT Career\n",
      "4 -->Bright IT Career\n",
      "5 -->Bright IT Career\n",
      "6 -->Bright IT Career\n",
      "7 -->Bright IT Career\n",
      "8 -->Bright IT Career\n",
      "9 -->Bright IT Career\n",
      "10 -->Bright IT Career\n"
     ]
    }
   ],
   "source": [
    "# 1. To print Bright IT Career 10 times.\n",
    "for i in range(1,11):\n",
    "    print(i,\"-->Bright IT Career\")"
   ]
  },
  {
   "cell_type": "code",
   "execution_count": 3,
   "id": "bb1d433a",
   "metadata": {},
   "outputs": [
    {
     "name": "stdout",
     "output_type": "stream",
     "text": [
      "1\n",
      "2\n",
      "3\n",
      "4\n",
      "5\n",
      "6\n",
      "7\n",
      "8\n",
      "9\n",
      "10\n",
      "11\n",
      "12\n",
      "13\n",
      "14\n",
      "15\n",
      "16\n",
      "17\n",
      "18\n",
      "19\n",
      "20\n"
     ]
    }
   ],
   "source": [
    " #2. to print 1 to 20 numbers using the while loop\n",
    "n=1\n",
    "while n<=20:\n",
    "    print(n)\n",
    "    n+=1\n",
    "    "
   ]
  },
  {
   "cell_type": "code",
   "execution_count": 4,
   "id": "bf744e6e",
   "metadata": {},
   "outputs": [
    {
     "name": "stdout",
     "output_type": "stream",
     "text": [
      "enter first number:2\n",
      "enter second number:3\n",
      "Both are not equal.\n",
      "enter any value:2\n",
      "Enter any value:2\n",
      "Both are equal.\n"
     ]
    }
   ],
   "source": [
    "#3. Program to equal operator and not equal operators\n",
    "a=int(input(\"enter first number:\"))\n",
    "b=int(input(\"enter second number:\"))\n",
    "if a==b:\n",
    "    print(\"Both are equal.\")\n",
    "else:\n",
    "    print(\"Both are not equal.\")\n",
    "c=int(input(\"enter any value:\"))\n",
    "d=int(input(\"Enter any value:\"))\n",
    "if c!=d:\n",
    "    print(\"both are not equal.\")\n",
    "else:\n",
    "    print(\"Both are equal.\")"
   ]
  },
  {
   "cell_type": "code",
   "execution_count": 5,
   "id": "d6b513a2",
   "metadata": {},
   "outputs": [
    {
     "name": "stdout",
     "output_type": "stream",
     "text": [
      "Enter any number:23\n",
      "23  is an odd number.\n"
     ]
    }
   ],
   "source": [
    "#4. odd or even number\n",
    "n=int(input(\"Enter any number:\"))\n",
    "if n%2==0:\n",
    "    print(n,\" is an even number.\")\n",
    "else:\n",
    "    print(n,\" is an odd number.\")"
   ]
  },
  {
   "cell_type": "code",
   "execution_count": 6,
   "id": "3d512d2f",
   "metadata": {},
   "outputs": [
    {
     "name": "stdout",
     "output_type": "stream",
     "text": [
      "Enter first number:23\n",
      "Enter second number:34\n",
      "Enter third number:21\n",
      "34  is a largest number.\n"
     ]
    }
   ],
   "source": [
    "#5. largest number among 3 numbers\n",
    "a=int(input(\"Enter first number:\"))\n",
    "b=int(input(\"Enter second number:\"))\n",
    "c=int(input(\"Enter third number:\"))\n",
    "if a>b and a>c:\n",
    "    print(a,\" is a largest number.\")\n",
    "elif b>a and b>c:\n",
    "    print(b, \" is a largest number.\")\n",
    "else:\n",
    "    print(c,\" is a largest number.\")"
   ]
  },
  {
   "cell_type": "code",
   "execution_count": 9,
   "id": "5395b080",
   "metadata": {},
   "outputs": [
    {
     "name": "stdout",
     "output_type": "stream",
     "text": [
      "10\n",
      "12\n",
      "14\n",
      "16\n",
      "18\n",
      "20\n"
     ]
    }
   ],
   "source": [
    "#6. Even numbers between 10 and 20.\n",
    "for i in range(10,21):\n",
    "    if i%2==0:\n",
    "        print(i)"
   ]
  },
  {
   "cell_type": "code",
   "execution_count": 11,
   "id": "9cd46f96",
   "metadata": {},
   "outputs": [
    {
     "name": "stdout",
     "output_type": "stream",
     "text": [
      "1\n",
      "2\n",
      "3\n",
      "4\n",
      "5\n",
      "6\n",
      "7\n",
      "8\n",
      "9\n",
      "10\n"
     ]
    }
   ],
   "source": [
    "#7.  to print 1 to 10 using the do-while loop statement.\n",
    "# in python do-while loop is not exist only we use while loop\n",
    "\n",
    "n=1\n",
    "while True:\n",
    "    print(n)\n",
    "    n+=1\n",
    "    if n>10:\n",
    "        break"
   ]
  },
  {
   "cell_type": "code",
   "execution_count": 21,
   "id": "74322785",
   "metadata": {},
   "outputs": [
    {
     "name": "stdout",
     "output_type": "stream",
     "text": [
      "Enter any number:153\n",
      "it is an armstrong number.\n"
     ]
    }
   ],
   "source": [
    "#8. Armstrong number or not\n",
    "n=int(input(\"Enter any number:\"))\n",
    "sum=0\n",
    "temp=n\n",
    "order=len(str(temp))\n",
    "while temp>0:\n",
    "    digit=temp%10\n",
    "    sum=sum+digit**order\n",
    "    temp=temp//10\n",
    "if n==sum:\n",
    "    print(\"it is an armstrong number.\")\n",
    "else:\n",
    "    print(\"It is not an armstrong number.\")\n",
    "    \n"
   ]
  },
  {
   "cell_type": "code",
   "execution_count": 37,
   "id": "56eee2db",
   "metadata": {},
   "outputs": [
    {
     "name": "stdout",
     "output_type": "stream",
     "text": [
      "Enter any number:3\n",
      "3  is a prime number\n"
     ]
    }
   ],
   "source": [
    "#9. Prime number or not\n",
    "n=int(input(\"Enter any number:\"))\n",
    "is_Prime=True\n",
    "if n<=1:\n",
    "    is_Prime=False\n",
    "else:\n",
    "    for i in range(2,int(n/2)+1):\n",
    "        if n%i==0:\n",
    "            is_Prime=False\n",
    "            break\n",
    "        else:\n",
    "            is_Prime=True\n",
    "if is_Prime:\n",
    "    print(n, \" is a prime number\")\n",
    "else:\n",
    "    print(n,\" is not a Prime number.\")"
   ]
  },
  {
   "cell_type": "code",
   "execution_count": 49,
   "id": "5d473e59",
   "metadata": {},
   "outputs": [
    {
     "name": "stdout",
     "output_type": "stream",
     "text": [
      "Enter any string:madam\n",
      "madam  is a palindrome\n"
     ]
    }
   ],
   "source": [
    "#10. palindrome check\n",
    "n=input(\"Enter any string:\")\n",
    "l=len(n)-1\n",
    "b=''\n",
    "for i in range(l,-1,-1):\n",
    "    b+=n[i]\n",
    "if n==b:\n",
    "    print(n,' is a palindrome')\n",
    "else:\n",
    "    print(n,\" is not a palindrome\")"
   ]
  },
  {
   "cell_type": "code",
   "execution_count": 50,
   "id": "00057070",
   "metadata": {},
   "outputs": [
    {
     "name": "stdout",
     "output_type": "stream",
     "text": [
      "Enter a number: 4\n",
      "4 is a  Even\n"
     ]
    }
   ],
   "source": [
    " #11. Program to check whether a number is EVEN or ODD using switch\n",
    "    \n",
    "num = int(input(\"Enter a number: \"))\n",
    "result = num % 2\n",
    "switch_case = {\n",
    "    0: \"Even\",\n",
    "    1: \"Odd\"\n",
    "}\n",
    "message = switch_case[result]\n",
    "\n",
    "print(num,\"is a \",message)\n"
   ]
  },
  {
   "cell_type": "code",
   "execution_count": 54,
   "id": "d28e4e3d",
   "metadata": {},
   "outputs": [
    {
     "name": "stdout",
     "output_type": "stream",
     "text": [
      "Enter M for Male and F for Femalem\n",
      "M  is  Male\n"
     ]
    }
   ],
   "source": [
    "#12. Print gender (Male/Female) program according to given M/F using switch \n",
    "gender=input(\"Enter M for Male and F for Female\").upper()\n",
    "switch={\n",
    "    'M':\"Male\",\n",
    "    'F':\"Female\"\n",
    "}\n",
    "if gender in switch:\n",
    "    result=switch[gender]\n",
    "else:\n",
    "    result=\"invalid input\"\n",
    "print(gender,\" is \", result)"
   ]
  }
 ],
 "metadata": {
  "kernelspec": {
   "display_name": "Python 3 (ipykernel)",
   "language": "python",
   "name": "python3"
  },
  "language_info": {
   "codemirror_mode": {
    "name": "ipython",
    "version": 3
   },
   "file_extension": ".py",
   "mimetype": "text/x-python",
   "name": "python",
   "nbconvert_exporter": "python",
   "pygments_lexer": "ipython3",
   "version": "3.9.12"
  }
 },
 "nbformat": 4,
 "nbformat_minor": 5
}
