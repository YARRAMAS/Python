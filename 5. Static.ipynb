{
 "cells": [
  {
   "cell_type": "code",
   "execution_count": 1,
   "id": "7e6732d9",
   "metadata": {},
   "outputs": [
    {
     "name": "stdout",
     "output_type": "stream",
     "text": [
      "10\n"
     ]
    }
   ],
   "source": [
    "#1. Define a static variable and access that through a class  \n",
    "class MyClass:\n",
    "    static_var=10\n",
    "print(MyClass.static_var)"
   ]
  },
  {
   "cell_type": "code",
   "execution_count": 2,
   "id": "08d5c839",
   "metadata": {},
   "outputs": [
    {
     "name": "stdout",
     "output_type": "stream",
     "text": [
      "10\n"
     ]
    }
   ],
   "source": [
    "#2. Define a static variable and access that through a instance \n",
    "class MyClass:\n",
    "    static_var=10\n",
    "obj=MyClass()\n",
    "print(obj.static_var)"
   ]
  },
  {
   "cell_type": "code",
   "execution_count": 6,
   "id": "0001d75e",
   "metadata": {},
   "outputs": [
    {
     "name": "stdout",
     "output_type": "stream",
     "text": [
      "Instacne level: 20\n",
      "Class levele: 10\n"
     ]
    }
   ],
   "source": [
    "#3. Define a static variable and change within the instance\n",
    "class MyClass:\n",
    "    static_var=10\n",
    "obj=MyClass()\n",
    "obj.static_var=20\n",
    "print(\"Instacne level:\",obj.static_var)\n",
    "print(\"Class levele:\",MyClass.static_var)"
   ]
  },
  {
   "cell_type": "code",
   "execution_count": 7,
   "id": "230bd780",
   "metadata": {},
   "outputs": [
    {
     "name": "stdout",
     "output_type": "stream",
     "text": [
      "20\n"
     ]
    }
   ],
   "source": [
    "#4. Define a static variable and change within the class\n",
    "class MyClass:\n",
    "    static_var=10\n",
    "MyClass.static_var=20\n",
    "print(MyClass.static_var)"
   ]
  }
 ],
 "metadata": {
  "kernelspec": {
   "display_name": "Python 3 (ipykernel)",
   "language": "python",
   "name": "python3"
  },
  "language_info": {
   "codemirror_mode": {
    "name": "ipython",
    "version": 3
   },
   "file_extension": ".py",
   "mimetype": "text/x-python",
   "name": "python",
   "nbconvert_exporter": "python",
   "pygments_lexer": "ipython3",
   "version": "3.9.12"
  }
 },
 "nbformat": 4,
 "nbformat_minor": 5
}
